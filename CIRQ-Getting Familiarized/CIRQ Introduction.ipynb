{
 "cells": [
  {
   "cell_type": "code",
   "execution_count": 3,
   "metadata": {},
   "outputs": [
    {
     "name": "stdout",
     "output_type": "stream",
     "text": [
      "\u001b[33mWARNING: The directory '/home/accubits/.cache/pip' or its parent directory is not owned or is not writable by the current user. The cache has been disabled. Check the permissions and owner of that directory. If executing pip with sudo, you may want sudo's -H flag.\u001b[0m\n",
      "Collecting cirq\n",
      "  Downloading cirq-0.7.0-py3-none-any.whl (1.2 MB)\n",
      "\u001b[K     |████████████████████████████████| 1.2 MB 411 kB/s eta 0:00:01\n",
      "\u001b[?25hRequirement already satisfied: scipy in /usr/local/lib/python3.6/dist-packages (from cirq) (1.4.1)\n",
      "Collecting protobuf==3.8.0\n",
      "  Downloading protobuf-3.8.0-cp36-cp36m-manylinux1_x86_64.whl (1.2 MB)\n",
      "\u001b[K     |████████████████████████████████| 1.2 MB 1.2 MB/s eta 0:00:01\n",
      "\u001b[?25hRequirement already satisfied: google-api-python-client~=1.6 in /usr/local/lib/python3.6/dist-packages (from cirq) (1.7.11)\n",
      "Requirement already satisfied: numpy~=1.16 in /home/accubits/.local/lib/python3.6/site-packages (from cirq) (1.16.6)\n",
      "Requirement already satisfied: sympy==1.4 in /usr/local/lib/python3.6/dist-packages (from cirq) (1.4)\n",
      "Requirement already satisfied: dataclasses; python_version < \"3.7\" in /home/accubits/.local/lib/python3.6/site-packages (from cirq) (0.7)\n",
      "Collecting networkx==2.3\n",
      "  Downloading networkx-2.3.zip (1.7 MB)\n",
      "\u001b[K     |████████████████████████████████| 1.7 MB 726 kB/s eta 0:00:01\n",
      "\u001b[?25hRequirement already satisfied: pandas in /home/accubits/.local/lib/python3.6/site-packages (from cirq) (0.24.2)\n",
      "Collecting sortedcontainers~=2.0\n",
      "  Downloading sortedcontainers-2.1.0-py2.py3-none-any.whl (28 kB)\n",
      "Requirement already satisfied: typing-extensions in /usr/local/lib/python3.6/dist-packages (from cirq) (3.7.4.1)\n",
      "Requirement already satisfied: requests~=2.18 in /usr/local/lib/python3.6/dist-packages (from cirq) (2.22.0)\n",
      "Collecting matplotlib~=3.0\n",
      "  Downloading matplotlib-3.2.0-cp36-cp36m-manylinux1_x86_64.whl (12.4 MB)\n",
      "\u001b[K     |████████████████████████████████| 12.4 MB 1.4 MB/s eta 0:00:01    |█████████████████               | 6.6 MB 134 kB/s eta 0:00:44     |████████████████████████▉       | 9.6 MB 2.3 MB/s eta 0:00:02\n",
      "\u001b[?25hRequirement already satisfied: setuptools in /usr/local/lib/python3.6/dist-packages (from protobuf==3.8.0->cirq) (42.0.2)\n",
      "Requirement already satisfied: six>=1.9 in /usr/lib/python3/dist-packages (from protobuf==3.8.0->cirq) (1.11.0)\n",
      "Requirement already satisfied: uritemplate<4dev,>=3.0.0 in /usr/local/lib/python3.6/dist-packages (from google-api-python-client~=1.6->cirq) (3.0.0)\n",
      "Requirement already satisfied: httplib2<1dev,>=0.9.2 in /usr/lib/python3/dist-packages (from google-api-python-client~=1.6->cirq) (0.9.2)\n",
      "Requirement already satisfied: google-auth-httplib2>=0.0.3 in /usr/local/lib/python3.6/dist-packages (from google-api-python-client~=1.6->cirq) (0.0.3)\n",
      "Requirement already satisfied: google-auth>=1.4.1 in /usr/local/lib/python3.6/dist-packages (from google-api-python-client~=1.6->cirq) (1.8.1)\n",
      "Requirement already satisfied: mpmath>=0.19 in /usr/local/lib/python3.6/dist-packages (from sympy==1.4->cirq) (1.1.0)\n",
      "Requirement already satisfied: decorator>=4.3.0 in /usr/local/lib/python3.6/dist-packages (from networkx==2.3->cirq) (4.4.1)\n",
      "Requirement already satisfied: pytz>=2011k in /home/accubits/.local/lib/python3.6/site-packages (from pandas->cirq) (2018.9)\n",
      "Requirement already satisfied: python-dateutil>=2.5.0 in /home/accubits/.local/lib/python3.6/site-packages (from pandas->cirq) (2.7.5)\n",
      "Requirement already satisfied: chardet<3.1.0,>=3.0.2 in /usr/lib/python3/dist-packages (from requests~=2.18->cirq) (3.0.4)\n",
      "Requirement already satisfied: urllib3!=1.25.0,!=1.25.1,<1.26,>=1.21.1 in /usr/lib/python3/dist-packages (from requests~=2.18->cirq) (1.22)\n",
      "Requirement already satisfied: idna<2.9,>=2.5 in /usr/lib/python3/dist-packages (from requests~=2.18->cirq) (2.6)\n",
      "Requirement already satisfied: certifi>=2017.4.17 in /usr/lib/python3/dist-packages (from requests~=2.18->cirq) (2018.1.18)\n",
      "Requirement already satisfied: cycler>=0.10 in /usr/local/lib/python3.6/dist-packages (from matplotlib~=3.0->cirq) (0.10.0)\n",
      "Requirement already satisfied: pyparsing!=2.0.4,!=2.1.2,!=2.1.6,>=2.0.1 in /usr/local/lib/python3.6/dist-packages (from matplotlib~=3.0->cirq) (2.4.5)\n",
      "Requirement already satisfied: kiwisolver>=1.0.1 in /usr/local/lib/python3.6/dist-packages (from matplotlib~=3.0->cirq) (1.1.0)\n",
      "Requirement already satisfied: pyasn1-modules>=0.2.1 in /usr/local/lib/python3.6/dist-packages (from google-auth>=1.4.1->google-api-python-client~=1.6->cirq) (0.2.7)\n",
      "Requirement already satisfied: cachetools<3.2,>=2.0.0 in /usr/local/lib/python3.6/dist-packages (from google-auth>=1.4.1->google-api-python-client~=1.6->cirq) (3.1.1)\n",
      "Requirement already satisfied: rsa<4.1,>=3.1.4 in /usr/local/lib/python3.6/dist-packages (from google-auth>=1.4.1->google-api-python-client~=1.6->cirq) (4.0)\n",
      "Requirement already satisfied: pyasn1<0.5.0,>=0.4.6 in /usr/local/lib/python3.6/dist-packages (from pyasn1-modules>=0.2.1->google-auth>=1.4.1->google-api-python-client~=1.6->cirq) (0.4.8)\n",
      "Building wheels for collected packages: networkx\n",
      "  Building wheel for networkx (setup.py) ... \u001b[?25ldone\n",
      "\u001b[?25h  Created wheel for networkx: filename=networkx-2.3-py2.py3-none-any.whl size=1556759 sha256=78f0f1403c4e7c3976ccd7b751df77c9b49a5362ff79d7544c2cf531ff316867\n",
      "  Stored in directory: /tmp/pip-ephem-wheel-cache-i0d9z6vi/wheels/81/dc/bb/fbde77ddcbf8d5a04787faf6cc9f1edf4c70a67961d7c75abf\n",
      "Successfully built networkx\n",
      "\u001b[31mERROR: rasa 1.6.1 has requirement fbmessenger~=6.0, but you'll have fbmessenger 5.6.0 which is incompatible.\u001b[0m\n",
      "\u001b[31mERROR: rasa 1.6.1 has requirement jsonpickle~=1.1, but you'll have jsonpickle 1.0 which is incompatible.\u001b[0m\n",
      "\u001b[31mERROR: rasa 1.6.1 has requirement packaging~=19.0, but you'll have packaging 18.0 which is incompatible.\u001b[0m\n",
      "\u001b[31mERROR: rasa 1.6.1 has requirement pika~=1.0.0, but you'll have pika 0.12.0 which is incompatible.\u001b[0m\n",
      "\u001b[31mERROR: rasa 1.6.1 has requirement pymongo[srv,tls]~=3.8, but you'll have pymongo 3.7.2 which is incompatible.\u001b[0m\n",
      "\u001b[31mERROR: rasa 1.6.1 has requirement python-dateutil~=2.8, but you'll have python-dateutil 2.7.5 which is incompatible.\u001b[0m\n",
      "\u001b[31mERROR: rasa 1.6.1 has requirement python-socketio>=4.3.1, but you'll have python-socketio 3.1.2 which is incompatible.\u001b[0m\n",
      "\u001b[31mERROR: rasa 1.6.1 has requirement pytz~=2019.1, but you'll have pytz 2018.9 which is incompatible.\u001b[0m\n",
      "\u001b[31mERROR: rasa 1.6.1 has requirement redis~=3.3.5, but you'll have redis 2.10.6 which is incompatible.\u001b[0m\n",
      "\u001b[31mERROR: rasa 1.6.1 has requirement tensorflow~=1.15.0, but you'll have tensorflow 1.12.0 which is incompatible.\u001b[0m\n",
      "\u001b[31mERROR: rasa-nlu 0.14.6 has requirement jsonschema~=2.6, but you'll have jsonschema 3.2.0 which is incompatible.\u001b[0m\n",
      "\u001b[31mERROR: rasa-nlu 0.14.6 has requirement matplotlib~=2.0, but you'll have matplotlib 3.2.0 which is incompatible.\u001b[0m\n",
      "\u001b[31mERROR: rasa-core 0.13.8 has requirement jsonschema~=2.6, but you'll have jsonschema 3.2.0 which is incompatible.\u001b[0m\n",
      "\u001b[31mERROR: qiskit-terra 0.11.1 has requirement marshmallow<4,>=3, but you'll have marshmallow 2.19.5 which is incompatible.\u001b[0m\n",
      "Installing collected packages: protobuf, networkx, sortedcontainers, matplotlib, cirq\n",
      "  Attempting uninstall: protobuf\n",
      "    Found existing installation: protobuf 3.11.1\n",
      "    Uninstalling protobuf-3.11.1:\n",
      "      Successfully uninstalled protobuf-3.11.1\n",
      "  Attempting uninstall: networkx\n",
      "    Found existing installation: networkx 2.2\n",
      "    Uninstalling networkx-2.2:\n",
      "      Successfully uninstalled networkx-2.2\n",
      "  Attempting uninstall: matplotlib\n",
      "    Found existing installation: matplotlib 2.2.5\n",
      "    Uninstalling matplotlib-2.2.5:\n",
      "      Successfully uninstalled matplotlib-2.2.5\n",
      "Successfully installed cirq-0.7.0 matplotlib-3.2.0 networkx-2.3 protobuf-3.8.0 sortedcontainers-2.1.0\n",
      "Note: you may need to restart the kernel to use updated packages.\n"
     ]
    }
   ],
   "source": [
    "pip install cirq\n"
   ]
  },
  {
   "cell_type": "code",
   "execution_count": 4,
   "metadata": {},
   "outputs": [],
   "source": [
    "import cirq"
   ]
  },
  {
   "cell_type": "code",
   "execution_count": 6,
   "metadata": {},
   "outputs": [],
   "source": [
    "circuit = cirq.Circuit()\n",
    "(q0,q1) = cirq.LineQubit.range(2)"
   ]
  },
  {
   "cell_type": "code",
   "execution_count": 7,
   "metadata": {},
   "outputs": [],
   "source": [
    "circuit.append([cirq.H(q0), cirq.CNOT(q0, q1)])"
   ]
  },
  {
   "cell_type": "code",
   "execution_count": 8,
   "metadata": {},
   "outputs": [],
   "source": [
    "circuit.append([cirq.measure(q0), cirq.measure(q1)])"
   ]
  },
  {
   "cell_type": "code",
   "execution_count": 9,
   "metadata": {},
   "outputs": [
    {
     "name": "stdout",
     "output_type": "stream",
     "text": [
      "0: ───H───@───M───\n",
      "          │\n",
      "1: ───────X───M───\n"
     ]
    }
   ],
   "source": [
    "print(circuit)"
   ]
  },
  {
   "cell_type": "markdown",
   "metadata": {},
   "source": [
    "## Here you printed your circuit with CIRQ. Now let's use simulator of QC to observe the results"
   ]
  },
  {
   "cell_type": "code",
   "execution_count": 10,
   "metadata": {},
   "outputs": [],
   "source": [
    "sim = cirq.Simulator()"
   ]
  },
  {
   "cell_type": "code",
   "execution_count": 11,
   "metadata": {},
   "outputs": [],
   "source": [
    "results = sim.run(circuit, repetitions=10)"
   ]
  },
  {
   "cell_type": "code",
   "execution_count": 12,
   "metadata": {},
   "outputs": [
    {
     "name": "stdout",
     "output_type": "stream",
     "text": [
      "0=0100110101\n",
      "1=0100110101\n"
     ]
    }
   ],
   "source": [
    "print(results)"
   ]
  },
  {
   "cell_type": "markdown",
   "metadata": {},
   "source": [
    "## Here you see some random results since hadamard gate and CNOT leads to a random results. \n"
   ]
  }
 ],
 "metadata": {
  "kernelspec": {
   "display_name": "Python 3",
   "language": "python",
   "name": "python3"
  },
  "language_info": {
   "codemirror_mode": {
    "name": "ipython",
    "version": 3
   },
   "file_extension": ".py",
   "mimetype": "text/x-python",
   "name": "python",
   "nbconvert_exporter": "python",
   "pygments_lexer": "ipython3",
   "version": "3.6.9"
  }
 },
 "nbformat": 4,
 "nbformat_minor": 2
}
