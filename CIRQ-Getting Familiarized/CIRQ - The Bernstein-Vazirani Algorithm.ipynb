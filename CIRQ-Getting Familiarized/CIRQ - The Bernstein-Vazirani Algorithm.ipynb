{
 "cells": [
  {
   "cell_type": "code",
   "execution_count": 1,
   "metadata": {},
   "outputs": [],
   "source": [
    "import cirq\n",
    "import random"
   ]
  },
  {
   "cell_type": "code",
   "execution_count": 35,
   "metadata": {},
   "outputs": [],
   "source": [
    "\n",
    "def main(qubit_count = 8):\n",
    "    circuit_sample_count = 3\n",
    "\n",
    "    # Choose qubits to use.\n",
    "    input_qubits = [cirq.GridQubit(i, 0) for i in range(qubit_count)]\n",
    "    output_qubit = cirq.GridQubit(qubit_count, 0)\n",
    "\n",
    "    # Pick coefficients for the oracle and create a circuit to query it.\n",
    "    secret_bias_bit = random.randint(0, 1)\n",
    "    secret_factor_bits = [random.randint(0, 1) for _ in range(qubit_count)]\n",
    "    oracle = make_oracle(input_qubits,\n",
    "                         output_qubit,\n",
    "                         secret_factor_bits,\n",
    "                         secret_bias_bit)\n",
    "    print('Secret function:\\nf(a) = a·<{}> + {} (mod 2)'.format(\n",
    "        ', '.join(str(e) for e in secret_factor_bits),\n",
    "        secret_bias_bit))\n",
    "\n",
    "    # Embed the oracle into a special quantum circuit querying it exactly once.\n",
    "    circuit = make_bernstein_vazirani_circuit(\n",
    "        input_qubits, output_qubit, oracle)\n",
    "    print('Circuit:')\n",
    "    print(circuit)\n",
    "\n",
    "    # Sample from the circuit a couple times.\n",
    "    simulator = cirq.Simulator()\n",
    "    result = simulator.run(circuit, repetitions=circuit_sample_count)\n",
    "    frequencies = result.histogram(key='result', fold_func=bitstring)\n",
    "    print('Sampled results:\\n{}'.format(frequencies))\n",
    "\n",
    "    # Check if we actually found the secret value.\n",
    "    most_common_bitstring = frequencies.most_common(1)[0][0]\n",
    "    print('Most common matches secret factors:\\n{}'.format(\n",
    "        most_common_bitstring == bitstring(secret_factor_bits)))"
   ]
  },
  {
   "cell_type": "code",
   "execution_count": 36,
   "metadata": {},
   "outputs": [],
   "source": [
    "def make_oracle(input_qubits,\n",
    "                output_qubit,\n",
    "                secret_factor_bits,\n",
    "                secret_bias_bit):\n",
    "    \"\"\"Gates implementing the function f(a) = a·factors + bias (mod 2).\"\"\"\n",
    "\n",
    "    if secret_bias_bit:\n",
    "        yield cirq.X(output_qubit)\n",
    "\n",
    "    for qubit, bit in zip(input_qubits, secret_factor_bits):\n",
    "        if bit:\n",
    "            yield cirq.CNOT(qubit, output_qubit)"
   ]
  },
  {
   "cell_type": "code",
   "execution_count": 37,
   "metadata": {},
   "outputs": [],
   "source": [
    "\n",
    "def make_bernstein_vazirani_circuit(input_qubits, output_qubit, oracle):\n",
    "    \"\"\"Solves for factors in f(a) = a·factors + bias (mod 2) with one query.\"\"\"\n",
    "\n",
    "    c = cirq.Circuit()\n",
    "\n",
    "    # Initialize qubits.\n",
    "    c.append([\n",
    "        cirq.X(output_qubit),\n",
    "        cirq.H(output_qubit),\n",
    "        cirq.H.on_each(*input_qubits),\n",
    "    ])\n",
    "\n",
    "    # Query oracle.\n",
    "    c.append(oracle)\n",
    "\n",
    "    # Measure in X basis.\n",
    "    c.append([\n",
    "        cirq.H.on_each(*input_qubits),\n",
    "        cirq.measure(*input_qubits, key='result')\n",
    "    ])\n",
    "\n",
    "    return c\n",
    "\n"
   ]
  },
  {
   "cell_type": "code",
   "execution_count": 38,
   "metadata": {},
   "outputs": [],
   "source": [
    "def bitstring(bits):\n",
    "    return ''.join(str(int(b)) for b in bits)\n"
   ]
  },
  {
   "cell_type": "code",
   "execution_count": 39,
   "metadata": {},
   "outputs": [
    {
     "name": "stdout",
     "output_type": "stream",
     "text": [
      "Secret function:\n",
      "f(a) = a·<1, 1, 0, 0, 1, 1, 1, 1> + 0 (mod 2)\n",
      "Circuit:\n",
      "(0, 0): ───H───────@───H───────────────────────M('result')───\n",
      "                   │                           │\n",
      "(1, 0): ───H───────┼───@───H───────────────────M─────────────\n",
      "                   │   │                       │\n",
      "(2, 0): ───H───H───┼───┼───────────────────────M─────────────\n",
      "                   │   │                       │\n",
      "(3, 0): ───H───H───┼───┼───────────────────────M─────────────\n",
      "                   │   │                       │\n",
      "(4, 0): ───H───────┼───┼───@───H───────────────M─────────────\n",
      "                   │   │   │                   │\n",
      "(5, 0): ───H───────┼───┼───┼───@───H───────────M─────────────\n",
      "                   │   │   │   │               │\n",
      "(6, 0): ───H───────┼───┼───┼───┼───@───H───────M─────────────\n",
      "                   │   │   │   │   │           │\n",
      "(7, 0): ───H───────┼───┼───┼───┼───┼───@───H───M─────────────\n",
      "                   │   │   │   │   │   │\n",
      "(8, 0): ───X───H───X───X───X───X───X───X─────────────────────\n",
      "Sampled results:\n",
      "Counter({'11001111': 3})\n",
      "Most common matches secret factors:\n",
      "True\n"
     ]
    }
   ],
   "source": [
    "if __name__ == '__main__':\n",
    "    main()"
   ]
  },
  {
   "cell_type": "code",
   "execution_count": null,
   "metadata": {},
   "outputs": [],
   "source": []
  }
 ],
 "metadata": {
  "kernelspec": {
   "display_name": "Python 3",
   "language": "python",
   "name": "python3"
  },
  "language_info": {
   "codemirror_mode": {
    "name": "ipython",
    "version": 3
   },
   "file_extension": ".py",
   "mimetype": "text/x-python",
   "name": "python",
   "nbconvert_exporter": "python",
   "pygments_lexer": "ipython3",
   "version": "3.6.9"
  }
 },
 "nbformat": 4,
 "nbformat_minor": 2
}
