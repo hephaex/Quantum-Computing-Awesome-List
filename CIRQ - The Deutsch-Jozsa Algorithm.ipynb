{
 "cells": [
  {
   "cell_type": "code",
   "execution_count": 1,
   "metadata": {},
   "outputs": [],
   "source": [
    "import cirq"
   ]
  },
  {
   "cell_type": "code",
   "execution_count": 3,
   "metadata": {},
   "outputs": [],
   "source": [
    "## Data qubit and target qubit\n",
    "q0, q1 = cirq.LineQubit.range(2)"
   ]
  },
  {
   "cell_type": "code",
   "execution_count": 4,
   "metadata": {},
   "outputs": [],
   "source": [
    "## Dictionary of oracles\n",
    "oracles = {'0' : [], '1' : [cirq.X(q1)], 'x' : [cirq.CNOT(q0, q1)], 'notx' : [cirq.CNOT(q0, q1), cirq.X(q1)]}"
   ]
  },
  {
   "cell_type": "code",
   "execution_count": 6,
   "metadata": {},
   "outputs": [],
   "source": [
    "def deutsch_algorithm(oracle):\n",
    "    ## Yield a circuit for Deustch algorithm given operations implementing\n",
    "    \n",
    "    yield cirq.X(q1)\n",
    "    yield cirq.H(q0), cirq.H(q1)\n",
    "    yield oracle\n",
    "    yield cirq.H(q0)\n",
    "    yield cirq.measure(q0)"
   ]
  },
  {
   "cell_type": "code",
   "execution_count": 7,
   "metadata": {},
   "outputs": [
    {
     "name": "stdout",
     "output_type": "stream",
     "text": [
      "Circuit for 0 :\n",
      "0: ───H───H───M───\n",
      "\n",
      "1: ───X───H───────\n",
      "\n",
      "Circuit for 1 :\n",
      "0: ───H───H───M───\n",
      "\n",
      "1: ───X───H───X───\n",
      "\n",
      "Circuit for x :\n",
      "0: ───H───────@───H───M───\n",
      "              │\n",
      "1: ───X───H───X───────────\n",
      "\n",
      "Circuit for notx :\n",
      "0: ───H───────@───H───M───\n",
      "              │\n",
      "1: ───X───H───X───X───────\n",
      "\n"
     ]
    },
    {
     "name": "stderr",
     "output_type": "stream",
     "text": [
      "/usr/local/lib/python3.6/dist-packages/ipykernel_launcher.py:3: DeprecationWarning: Circuit.from_ops was used but is deprecated.\n",
      "It will be removed in cirq v0.8.0.\n",
      "use `cirq.Circuit(*ops)` instead.\n",
      "\n",
      "  This is separate from the ipykernel package so we can avoid doing imports until\n"
     ]
    }
   ],
   "source": [
    "\n",
    "for key, oracle in oracles.items():\n",
    "    print('Circuit for {} :'. format(key))\n",
    "    print(cirq.Circuit.from_ops(deutsch_algorithm(oracle)), end = \"\\n\\n\")\n",
    "    \n"
   ]
  },
  {
   "cell_type": "code",
   "execution_count": 8,
   "metadata": {},
   "outputs": [],
   "source": [
    "simulator = cirq.Simulator()"
   ]
  },
  {
   "cell_type": "code",
   "execution_count": 11,
   "metadata": {},
   "outputs": [
    {
     "name": "stdout",
     "output_type": "stream",
     "text": [
      "Oracle : 0      results: 0=00000000000000000000\n",
      "Oracle : 1      results: 0=00000000000000000000\n",
      "Oracle : x      results: 0=11111111111111111111\n",
      "Oracle : notx   results: 0=11111111111111111111\n"
     ]
    },
    {
     "name": "stderr",
     "output_type": "stream",
     "text": [
      "/usr/local/lib/python3.6/dist-packages/ipykernel_launcher.py:2: DeprecationWarning: Circuit.from_ops was used but is deprecated.\n",
      "It will be removed in cirq v0.8.0.\n",
      "use `cirq.Circuit(*ops)` instead.\n",
      "\n",
      "  \n"
     ]
    }
   ],
   "source": [
    "for key, oracle in oracles.items():\n",
    "    result = simulator.run(cirq.Circuit.from_ops(deutsch_algorithm(oracle)), repetitions=20)\n",
    "    print('Oracle : {:<4}   results: {}'. format(key, result))"
   ]
  },
  {
   "cell_type": "markdown",
   "metadata": {},
   "source": [
    "## Following Code gives you an idea about n-bit \n",
    "# Deustch - Jozsa Algorithm"
   ]
  },
  {
   "cell_type": "code",
   "execution_count": 12,
   "metadata": {},
   "outputs": [],
   "source": [
    "import cirq"
   ]
  },
  {
   "cell_type": "code",
   "execution_count": 13,
   "metadata": {},
   "outputs": [],
   "source": [
    "q0, q1, q2 = cirq.LineQubit.range(3)"
   ]
  },
  {
   "cell_type": "code",
   "execution_count": 15,
   "metadata": {},
   "outputs": [],
   "source": [
    "## Oracles for constant functions\n",
    "constant = ([], [cirq.X(q2)])"
   ]
  },
  {
   "cell_type": "code",
   "execution_count": 18,
   "metadata": {},
   "outputs": [],
   "source": [
    "## Oracles for balanced functions\n",
    "balanced = ([cirq.CNOT(q0, q2)],\n",
    "           [cirq.CNOT(q1, q2)],\n",
    "            [cirq.CNOT(q0, q2), cirq.CNOT(q1, q2)],\n",
    "            [cirq.CNOT(q0, q2), cirq.X(q2)],\n",
    "            [cirq.CNOT(q1, q2), cirq.X(q2)],\n",
    "            [cirq.CNOT(q0, q2), cirq.CNOT(q1, q2), cirq.X(q2)]\n",
    "           )"
   ]
  },
  {
   "cell_type": "code",
   "execution_count": 19,
   "metadata": {},
   "outputs": [],
   "source": [
    "def your_circuit(oracle):\n",
    "\n",
    "    ## Phase kickback trick\n",
    "    yield cirq.X(q2), cirq.H(q2)\n",
    "    \n",
    "    ## Equal Superposition over input bits\n",
    "    yield cirq.H(q0), cirq.H(q1)\n",
    "    \n",
    "    ## Query the function\n",
    "    yield oracle\n",
    "    \n",
    "    ## interface to get result, put last qubit into |1>\n",
    "    yield cirq.H(q0),  cirq.H(q1), cirq.H(q2)\n",
    "    \n",
    "    ## a final OR gate to put result in final qubit\n",
    "    yield cirq.X(q0), cirq.X(q1), cirq.CCX(q0, q1, q2)\n",
    "    yield cirq.measure(q2)"
   ]
  },
  {
   "cell_type": "code",
   "execution_count": 20,
   "metadata": {},
   "outputs": [],
   "source": [
    "simulator = cirq.Simulator()"
   ]
  },
  {
   "cell_type": "code",
   "execution_count": 21,
   "metadata": {},
   "outputs": [
    {
     "name": "stdout",
     "output_type": "stream",
     "text": [
      "your result on constant functions:\n",
      "2=0000000000\n",
      "2=0000000000\n"
     ]
    },
    {
     "name": "stderr",
     "output_type": "stream",
     "text": [
      "/usr/local/lib/python3.6/dist-packages/ipykernel_launcher.py:3: DeprecationWarning: Circuit.from_ops was used but is deprecated.\n",
      "It will be removed in cirq v0.8.0.\n",
      "use `cirq.Circuit(*ops)` instead.\n",
      "\n",
      "  This is separate from the ipykernel package so we can avoid doing imports until\n"
     ]
    }
   ],
   "source": [
    "print(\"your result on constant functions:\")\n",
    "for oracle in constant:\n",
    "    result = simulator.run(cirq.Circuit.from_ops(your_circuit(oracle)), repetitions=10)\n",
    "    print(result)\n",
    "    "
   ]
  },
  {
   "cell_type": "code",
   "execution_count": 22,
   "metadata": {},
   "outputs": [
    {
     "name": "stdout",
     "output_type": "stream",
     "text": [
      "your result on balanced functions:\n",
      "2=1111111111\n",
      "2=1111111111\n",
      "2=1111111111\n",
      "2=1111111111\n",
      "2=1111111111\n",
      "2=1111111111\n"
     ]
    },
    {
     "name": "stderr",
     "output_type": "stream",
     "text": [
      "/usr/local/lib/python3.6/dist-packages/ipykernel_launcher.py:3: DeprecationWarning: Circuit.from_ops was used but is deprecated.\n",
      "It will be removed in cirq v0.8.0.\n",
      "use `cirq.Circuit(*ops)` instead.\n",
      "\n",
      "  This is separate from the ipykernel package so we can avoid doing imports until\n"
     ]
    }
   ],
   "source": [
    "print(\"your result on balanced functions:\")\n",
    "for oracle in balanced:\n",
    "    result = simulator.run(cirq.Circuit.from_ops(your_circuit(oracle)), repetitions=10)\n",
    "    print(result)\n",
    "    "
   ]
  },
  {
   "cell_type": "code",
   "execution_count": null,
   "metadata": {},
   "outputs": [],
   "source": []
  }
 ],
 "metadata": {
  "kernelspec": {
   "display_name": "Python 3",
   "language": "python",
   "name": "python3"
  },
  "language_info": {
   "codemirror_mode": {
    "name": "ipython",
    "version": 3
   },
   "file_extension": ".py",
   "mimetype": "text/x-python",
   "name": "python",
   "nbconvert_exporter": "python",
   "pygments_lexer": "ipython3",
   "version": "3.6.9"
  }
 },
 "nbformat": 4,
 "nbformat_minor": 2
}
