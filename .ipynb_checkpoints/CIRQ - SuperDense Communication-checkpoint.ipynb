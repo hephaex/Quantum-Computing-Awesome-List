{
 "cells": [
  {
   "cell_type": "markdown",
   "metadata": {},
   "source": [
    "# SuperDense Computation Using CIRQ"
   ]
  },
  {
   "cell_type": "code",
   "execution_count": null,
   "metadata": {},
   "outputs": [],
   "source": [
    "import cirq"
   ]
  },
  {
   "cell_type": "code",
   "execution_count": 137,
   "metadata": {},
   "outputs": [],
   "source": [
    "## Function for visualizing output\n",
    "def bitstring(bits):\n",
    "    return ''.join('1' if e else '0' for e in bits)"
   ]
  },
  {
   "cell_type": "code",
   "execution_count": 138,
   "metadata": {},
   "outputs": [],
   "source": [
    "## Create two quantum and classical registers\n",
    "qreg = [cirq.LineQubit(x) for x in range(2)]\n",
    "circuit = cirq.Circuit()"
   ]
  },
  {
   "cell_type": "code",
   "execution_count": 139,
   "metadata": {},
   "outputs": [],
   "source": [
    "message = {\"00\" : [],\n",
    "          \"10\" : [cirq.X(qreg[0])],\n",
    "          \"01\" : [cirq.Z(qreg[0])],\n",
    "          \"11\" : [cirq.X(qreg[0]), cirq.Z(qreg[0])]}"
   ]
  },
  {
   "cell_type": "code",
   "execution_count": 140,
   "metadata": {},
   "outputs": [],
   "source": [
    "## Creating a bell pair\n",
    "circuit.append(cirq.H(qreg[0]))\n",
    "circuit.append(cirq.CNOT(qreg[0], qreg[1]))"
   ]
  },
  {
   "cell_type": "code",
   "execution_count": 141,
   "metadata": {},
   "outputs": [
    {
     "name": "stdout",
     "output_type": "stream",
     "text": [
      "Alice sent a message\n"
     ]
    }
   ],
   "source": [
    "m = \"10\"\n",
    "print(\"Alice sent a message\")"
   ]
  },
  {
   "cell_type": "code",
   "execution_count": 142,
   "metadata": {},
   "outputs": [],
   "source": [
    "## Encodding the message in qubits\n",
    "circuit.append(message[m])"
   ]
  },
  {
   "cell_type": "code",
   "execution_count": 143,
   "metadata": {},
   "outputs": [],
   "source": [
    "## Bob is trying to decode\n",
    "circuit.append(cirq.CNOT(qreg[0], qreg[1]))\n",
    "circuit.append(cirq.H(qreg[0]))\n",
    "circuit.append([cirq.measure(qreg[0]), cirq.measure(qreg[1])])"
   ]
  },
  {
   "cell_type": "code",
   "execution_count": 144,
   "metadata": {},
   "outputs": [
    {
     "name": "stdout",
     "output_type": "stream",
     "text": [
      "\n",
      " Circuit is :\n",
      "0: ───H───@───X───@───H───M───\n",
      "          │       │\n",
      "1: ───────X───────X───M───────\n"
     ]
    }
   ],
   "source": [
    "print(\"\\n Circuit is :\")\n",
    "print(circuit)"
   ]
  },
  {
   "cell_type": "code",
   "execution_count": 145,
   "metadata": {},
   "outputs": [],
   "source": [
    "sim = cirq.Simulator()\n",
    "res = sim.run(circuit, repetitions = 1)"
   ]
  },
  {
   "cell_type": "code",
   "execution_count": 146,
   "metadata": {},
   "outputs": [
    {
     "name": "stdout",
     "output_type": "stream",
     "text": [
      "BOB recieved message:  10\n"
     ]
    }
   ],
   "source": [
    "print(\"BOB recieved message: \",bitstring(res.measurements.values())) "
   ]
  }
 ],
 "metadata": {
  "kernelspec": {
   "display_name": "Python 3",
   "language": "python",
   "name": "python3"
  },
  "language_info": {
   "codemirror_mode": {
    "name": "ipython",
    "version": 3
   },
   "file_extension": ".py",
   "mimetype": "text/x-python",
   "name": "python",
   "nbconvert_exporter": "python",
   "pygments_lexer": "ipython3",
   "version": "3.6.9"
  }
 },
 "nbformat": 4,
 "nbformat_minor": 2
}
