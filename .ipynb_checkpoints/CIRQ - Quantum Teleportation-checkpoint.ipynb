{
 "cells": [
  {
   "cell_type": "code",
   "execution_count": 5,
   "metadata": {},
   "outputs": [],
   "source": [
    "import cirq\n",
    "import random"
   ]
  },
  {
   "cell_type": "markdown",
   "metadata": {},
   "source": [
    "## Quantum teleportation circuit "
   ]
  },
  {
   "cell_type": "code",
   "execution_count": 6,
   "metadata": {},
   "outputs": [],
   "source": [
    "def make_quantum_teleportation_circuit(ranX, ranY):\n",
    "    circuit = cirq.Circuit()\n",
    "    msg, alice, bob = cirq.LineQubit.range(3)\n",
    "    ## Bell State \n",
    "    circuit.append([cirq.H(alice), cirq.CNOT(alice, bob)])\n",
    "    \n",
    "    ## Adding random message in message qubit\n",
    "    circuit.append([cirq.X(msg)**ranX, cirq.Y(msg)**ranY])\n",
    "    \n",
    "    ## Entangling msg and Alice qubits\n",
    "    circuit.append([cirq.CNOT(msg, alice), cirq.H(msg)])\n",
    "    \n",
    "    ## Measurements\n",
    "    circuit.append([cirq.measure(alice, msg)])\n",
    "    \n",
    "    ## We use two classical bit from the bell measurement to recover the state of qubit\n",
    "    circuit.append([cirq.CNOT(alice, bob), cirq.CZ(msg, bob)])\n",
    "    \n",
    "    return msg, circuit"
   ]
  },
  {
   "cell_type": "code",
   "execution_count": 12,
   "metadata": {},
   "outputs": [],
   "source": [
    "def main():\n",
    "    ## Creating random variable\n",
    "    ranX = random.random()\n",
    "    ranY = random.random()\n",
    "    \n",
    "    msg, circuit = make_quantum_teleportation_circuit(ranX, ranY)\n",
    "    \n",
    "    ## Simulating the circuit\n",
    "    sim = cirq.Simulator()\n",
    "    message = sim.simulate(cirq.Circuit.from_ops([cirq.X(msg)**ranX, cirq.Y(msg)**ranY]))\n",
    "    \n",
    "    print(\"Block Spehere of Alice Qubit\")\n",
    "    \n",
    "    b0x, b0y, b0z = cirq.bloch_vector_from_state_vector(message.final_state, 0)\n",
    "    print(\"X: \", round(b0x, 4),\n",
    "         \"Y: \", round(b0y, 4),\n",
    "         \"Z: \", round(b0z, 4))\n",
    "    \n",
    "    print(\"\\n Circuit:\")\n",
    "    print(circuit)\n",
    "    \n",
    "    final_results = sim.simulate(circuit)\n",
    "    \n",
    "    print(\"\\n Block Spehere of Bob's Qubits:\")\n",
    "    b2x, b2y, b2z = cirq.bloch_vector_from_state_vector(final_results.final_state, 2)\n",
    "    print(\"X: \", round(b2x, 4),\n",
    "         \"Y: \", round(b2y, 4),\n",
    "         \"Z: \", round(b2z, 4))\n",
    "    "
   ]
  },
  {
   "cell_type": "code",
   "execution_count": 13,
   "metadata": {},
   "outputs": [
    {
     "name": "stdout",
     "output_type": "stream",
     "text": [
      "Block Spehere of Alice Qubit\n",
      "X:  -0.1989 Y:  -0.9796 Z:  0.0275\n",
      "\n",
      " Circuit:\n",
      "0: ───X^0.564───Y^0.544───@───H───M───────@───\n",
      "                          │       │       │\n",
      "1: ───H─────────@─────────X───────M───@───┼───\n",
      "                │                     │   │\n",
      "2: ─────────────X─────────────────────X───@───\n",
      "\n",
      " Block Spehere of Bob's Qubits:\n",
      "X:  -0.1989 Y:  -0.9796 Z:  0.0275\n"
     ]
    },
    {
     "name": "stderr",
     "output_type": "stream",
     "text": [
      "/usr/local/lib/python3.6/dist-packages/ipykernel_launcher.py:10: DeprecationWarning: Circuit.from_ops was used but is deprecated.\n",
      "It will be removed in cirq v0.8.0.\n",
      "use `cirq.Circuit(*ops)` instead.\n",
      "\n",
      "  # Remove the CWD from sys.path while we load stuff.\n"
     ]
    }
   ],
   "source": [
    "if __name__ == '__main__':\n",
    "    main()"
   ]
  },
  {
   "cell_type": "code",
   "execution_count": null,
   "metadata": {},
   "outputs": [],
   "source": []
  }
 ],
 "metadata": {
  "kernelspec": {
   "display_name": "Python 3",
   "language": "python",
   "name": "python3"
  },
  "language_info": {
   "codemirror_mode": {
    "name": "ipython",
    "version": 3
   },
   "file_extension": ".py",
   "mimetype": "text/x-python",
   "name": "python",
   "nbconvert_exporter": "python",
   "pygments_lexer": "ipython3",
   "version": "3.6.9"
  }
 },
 "nbformat": 4,
 "nbformat_minor": 2
}
